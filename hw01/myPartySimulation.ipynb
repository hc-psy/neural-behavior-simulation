{
 "cells": [
  {
   "cell_type": "markdown",
   "metadata": {},
   "source": [
    "# Neural & Behavioral Modeling - Week 1 (Exercises)\n",
    "by 駱皓正(Hao-Cheng Lo)(austenpsy@gmail.com)"
   ]
  },
  {
   "cell_type": "code",
   "execution_count": 1,
   "metadata": {
    "collapsed": true
   },
   "outputs": [],
   "source": [
    "%config IPCompleter.greedy=True \n",
    "%matplotlib inline\n",
    "from numpy import *\n",
    "from matplotlib.pyplot import *\n",
    "from IPython.display import *"
   ]
  },
  {
   "cell_type": "markdown",
   "metadata": {},
   "source": [
    "## 1 Party Simulation (5 points)\n",
    "This is a model of a cocktail party. The men and women at the party form groups. A party-goer becomes uncomfortable and switches groups if their current group has too many members of the opposite sex. What types of group result?"
   ]
  },
  {
   "cell_type": "markdown",
   "metadata": {},
   "source": [
    "### 1.1 Insert your codes to complete the simulation (2 points)"
   ]
  },
  {
   "cell_type": "code",
   "execution_count": 2,
   "metadata": {},
   "outputs": [
    {
     "name": "stdout",
     "output_type": "stream",
     "text": [
      "2.3589434400200844\n"
     ]
    },
    {
     "data": {
      "image/png": "[encoded data removed]",
      "text/plain": [
       "<matplotlib.figure.Figure at 0x108010860>"
      ]
     },
     "metadata": {},
     "output_type": "display_data"
    }
   ],
   "source": [
    "import timeit\n",
    "\n",
    "#see the time start\n",
    "start = timeit.default_timer()\n",
    "\n",
    "# Model parameters:\n",
    "Ngroups=10\n",
    "Npeople=150  \n",
    "Tolerance=.28 # tolerable propotion of the opposite sex\n",
    "\n",
    "# Supporting functions:\n",
    "class Person:\n",
    "    def __init__(self, Ngroups):\n",
    "        self.sex = random.randint(2) # 0=woman; 1=man\n",
    "        self.Ngroups=Ngroups\n",
    "        self.group = random.randint(Ngroups) # staying in which group?\n",
    "        \n",
    "    def leave(self):\n",
    "        options=delete(arange(self.Ngroups),self.group) # except the current group\n",
    "        self.group = int(random.choice(options,1)) # choosing a new group\n",
    "    \n",
    "def party_stats(people): # calculate the number of men & women in each group\n",
    "    Npeople=len(people)    \n",
    "    sexes=[people[i].sex for i in range(Npeople)]\n",
    "    groups=[people[i].group for i in range(Npeople)]\n",
    "    counts=zeros((max(groups)+1,max(sexes)+1))\n",
    "    proportions=counts.copy()\n",
    "    for p in range(Npeople):\n",
    "        counts[groups[p],sexes[p]]+=1\n",
    "    men_plus_women=sum(counts,1) # number of men and women in each group\n",
    "    men_plus_women[men_plus_women==0]=inf # to avoid \"dividing by zeros later\n",
    "    proportions[:,0]=counts[:,0]/men_plus_women # proportion of women in each group\n",
    "    proportions[:,1]=counts[:,1]/men_plus_women # proportion of men in each group\n",
    "    return counts, proportions # size=group*sex\n",
    "\n",
    "def plot_party(counts):\n",
    "    x=arange(len(counts))+1 # number of groups\n",
    "    clf() # clear previous figure\n",
    "    bar(x, counts[:,0], color = 'r') # women\n",
    "    bar(x, counts[:,1], color = 'b', bottom = counts[:,0]) # men on top of women in the plot\n",
    "    display(gcf()); clear_output(wait=True) # to allow dynamic plots\n",
    "    \n",
    "# Initialization:\n",
    "people = [Person(Ngroups) for i in range(Npeople)] # assign each person to a group\n",
    "Nhappy=0 # Number of happy people\n",
    "\n",
    "\n",
    "# Simulation:\n",
    "while(Nhappy<Npeople): # Simulation stops when everyone is happy\n",
    "    Nhappy=0 # recounting after a new move\n",
    "\n",
    "    # Insert your codes here to make everyone happy:\n",
    "    # checking each person\n",
    "    for i in people:\n",
    "        # cal the status of each group\n",
    "        SGroup = party_stats(people)\n",
    "        \n",
    "        # if the ratio of the opp. sex in i-th person >= toler.\n",
    "        if SGroup[1][i.group][(i.sex+1)%2] >= Tolerance:\n",
    "            i.leave() #i-th person leaves\n",
    "        else:\n",
    "            Nhappy += 1 #if not then indicates the i-th person satisfying about the current state\n",
    "    \n",
    "    # people = [Person(Ngroups) for i in range(Npeople)] \n",
    "    # !! Remove this line !!\n",
    "    \n",
    "    # Plot new results:\n",
    "    counts, proportions=party_stats(people) # size=group*sex\n",
    "    plot_party(counts)\n",
    "\n",
    "    #check the end time\n",
    "    stop = timeit.default_timer()\n",
    "    \n",
    "    if stop - start >= 15:\n",
    "        print(\"no converge\")\n",
    "        break\n",
    "\n",
    "print(stop - start)"
   ]
  },
  {
   "cell_type": "markdown",
   "metadata": {
    "collapsed": true
   },
   "source": [
    "### 1.2 Modify the three model parameters & discuss how each affects convergence of the simulation (2 points)"
   ]
  },
  {
   "cell_type": "markdown",
   "metadata": {},
   "source": [
    "W/O automatically tuning parameters with grid process, all combinations of $T = \\left \\{ .15, .20, .25 \\right \\}$, $G = \\left \\{ 2, 5, 10 \\right \\}$, and $P = \\left \\{ 50, 100, 150 \\right \\}$ were manually tested. If the running time was more than 15 sec, no convergence would be declared.\n",
    "\n",
    "Results showed that the more # of group or tolerance and the less # of people, the runtime be faster."
   ]
  },
  {
   "cell_type": "markdown",
   "metadata": {},
   "source": [
    "### 1.3 Discuss why the simulaiton leads to group polarization (1 point)"
   ]
  },
  {
   "cell_type": "markdown",
   "metadata": {},
   "source": [
    "WLOG, tolerance is always less than .5. Given a arbitrary codition of a group $G$. In $G$, a male person $p$ will face 2 conditions A, B.\n",
    "\n",
    "For A, female rate is more than tolerance. $p$ will leave and the female rate will strickly increase for $G$.\n",
    "\n",
    "For B, female rate is not more than tolerance. Concurrently, for a female person $p'$ will leave. The male rate will strickly increase for $G$.\n",
    "\n",
    "Thus, the group polarization occurs."
   ]
  },
  {
   "cell_type": "markdown",
   "metadata": {},
   "source": [
    "## 2 Understand Shunting Equation (5 points)\n",
    "\n",
    "$\\frac{dy}{dt}=-Ay+(B-y)*E-(y-C)*I$"
   ]
  },
  {
   "cell_type": "markdown",
   "metadata": {},
   "source": [
    "### 2.1 Find its equilibrium by analytically solving $dy/dt=0$ (1 point)"
   ]
  },
  {
   "cell_type": "markdown",
   "metadata": {},
   "source": [
    "Write your answer here with [LaTex](https://www.sharelatex.com/learn/Mathematical_expressions) formula\n",
    "\n",
    "$\\frac{dy }{d t} = 0$\n",
    "\n",
    "$\\int \\frac{dy }{d t} dt = \\int 0 dt$\n",
    "\n",
    "$y = c1$"
   ]
  },
  {
   "cell_type": "markdown",
   "metadata": {},
   "source": [
    "### 2.2 Use Euler integration to verify your answer in 2.1 with your own (A, B, C, E, I) constants (2 points)\n"
   ]
  },
  {
   "cell_type": "code",
   "execution_count": 3,
   "metadata": {},
   "outputs": [
    {
     "name": "stdout",
     "output_type": "stream",
     "text": [
      "Eq(y(t), C1)\n"
     ]
    },
    {
     "data": {
      "image/png": "[encoded data removed]",
      "text/plain": [
       "<matplotlib.figure.Figure at 0x10e04d0f0>"
      ]
     },
     "metadata": {},
     "output_type": "display_data"
    }
   ],
   "source": [
    "# Write your simulation codes here\n",
    "import numpy as np\n",
    "import sympy as sym\n",
    "import matplotlib.pyplot as plt\n",
    "\n",
    "c,t = sym.symbols('c,t')\n",
    "y = sym.Function('y')(t) #y(t)\n",
    "sol = sym.dsolve(y.diff()-0*y) # solving dy/dt=0*y\n",
    "print(sol)\n",
    "\n",
    "#by Euler integration\n",
    "dt=.1 # usually set to .1 or even less = delta t\n",
    "c1=random.randint(10)\n",
    "y=[c1] # randomly set 5 = c1\n",
    "t=np.arange(0,10,dt) # 0 dt 2dt 3dt ... <10\n",
    "for i in t:\n",
    "    y1=y[-1] # the last element\n",
    "    y2=y1+dt*(0) # Euler integration\n",
    "    y.append(y2)\n",
    "plt.plot(t,t,'b.'); # true answer; plot t & t^2 using b. format\n",
    "plt.plot(t,y[0:-1],'ro',markerfacecolor='None') # approximation\n",
    "plt.legend(['symbolic','numerical']);"
   ]
  },
  {
   "cell_type": "markdown",
   "metadata": {},
   "source": [
    "### 2.3 Combining math & if-then controls in numerical integrations (2 points)\n",
    "\n",
    "Use Euler integration to plot $dy/dt=-y(t)+E$ where\n",
    "$E=\\begin{cases}\n",
    "    1  &  \\text{if } t<5\\\\\n",
    "    0  &  \\text{if } t>5\n",
    "   \\end{cases}$\n",
    "for t=[0,10] & y(t=0)=0.\n",
    "\n",
    "This is an example of time-varying rather than constant excitation."
   ]
  },
  {
   "cell_type": "code",
   "execution_count": 4,
   "metadata": {},
   "outputs": [
    {
     "data": {
      "image/png": "[encoded data removed]",
      "text/plain": [
       "<matplotlib.figure.Figure at 0x10d176fd0>"
      ]
     },
     "metadata": {},
     "output_type": "display_data"
    }
   ],
   "source": [
    "# Write your simulation codes here\n",
    "#by Euler integration\n",
    "dt=.1 # usually set to .1 or even less = delta t\n",
    "y=[0] \n",
    "t=np.arange(0,10,dt) # 0 dt 2dt 3dt ... <10\n",
    "for i in t:\n",
    "    y1=y[-1] # the last element\n",
    "    if i > 5:\n",
    "        y2=y1+dt*(-y1) # Euler integration\n",
    "    else:\n",
    "        y2=y1+dt*(-y1+1)\n",
    "    y.append(y2)\n",
    "#plt.plot(t,t,'b.'); # true answer\n",
    "plt.plot(t,y[0:-1],'b',markerfacecolor='None') # approximation\n",
    "plt.legend(['numerical']);"
   ]
  },
  {
   "cell_type": "code",
   "execution_count": null,
   "metadata": {
    "collapsed": true
   },
   "outputs": [],
   "source": []
  }
 ],
 "metadata": {
  "kernelspec": {
   "display_name": "Python 3",
   "language": "python",
   "name": "python3"
  },
  "language_info": {
   "codemirror_mode": {
    "name": "ipython",
    "version": 3
   },
   "file_extension": ".py",
   "mimetype": "text/x-python",
   "name": "python",
   "nbconvert_exporter": "python",
   "pygments_lexer": "ipython3",
   "version": "3.7.4"
  }
 },
 "nbformat": 4,
 "nbformat_minor": 2
}

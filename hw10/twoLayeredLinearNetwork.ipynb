{
 "cells": [
  {
   "cell_type": "markdown",
   "metadata": {},
   "source": [
    "# Neural & Behavioral Modeling - Week 7 (Exercises)"
   ]
  },
  {
   "cell_type": "code",
   "execution_count": 2,
   "metadata": {},
   "outputs": [],
   "source": [
    "%config IPCompleter.greedy=True \n",
    "%matplotlib inline\n",
    "from numpy import *\n",
    "from matplotlib.pyplot import *\n",
    "from IPython.display import *"
   ]
  },
  {
   "cell_type": "markdown",
   "metadata": {},
   "source": [
    "## 1 A Two-layered Linear Network as a Regression Model (7 points)\n",
    "Data fitting of the following network is poor. Please check if adding bias terms or chaging network hyperparameters (e.g., learning rate, amount of training, etc.) help. If not, please explain why the fitting is poor given that the network/regression model has sufficient degrees of freedom (i.e., network weights or regression coefficients) to overfit such a small data set."
   ]
  },
  {
   "cell_type": "code",
   "execution_count": 3,
   "metadata": {},
   "outputs": [
    {
     "name": "stdout",
     "output_type": "stream",
     "text": [
      "Ideal results:\n",
      "[[1 0]\n",
      " [1 0]\n",
      " [1 0]\n",
      " [0 1]\n",
      " [0 1]\n",
      " [0 1]]\n",
      "Reality:\n",
      "[[ 0.679 -0.   ]\n",
      " [ 0.643  0.   ]\n",
      " [ 1.321  0.   ]\n",
      " [-0.     0.643]\n",
      " [ 0.     0.643]\n",
      " [ 0.     1.286]]\n"
     ]
    },
    {
     "data": {
      "image/png": "[encoded data removed]",
      "text/plain": [
       "<Figure size 432x288 with 1 Axes>"
      ]
     },
     "metadata": {},
     "output_type": "display_data"
    }
   ],
   "source": [
    "# Here we train a two-layered network of units \n",
    "# with a linear activation function f(x)=x\n",
    "# to associate patterns using the delta rule dW=(t-y)*x\n",
    "\n",
    "set_printoptions(precision=3,suppress=True)\n",
    "\n",
    "X=array([[1,0,0,0],[0,1,0,0],[1,1,0,0],[0,0,1,0],[0,0,0,1],[0,0,1,1]])\n",
    "Y=array([[1,0],[1,0],[1,0],[0,1],[0,1],[0,1]])\n",
    "[Np,Nx]=X.shape; # find numbers of patterns and input dimensions\n",
    "[Np,Ny]=Y.shape; # find numbers of patterns and output dimensions\n",
    "W=random.rand(Ny,Nx); # set initially random connectivity matrix\n",
    "#print(W)\n",
    "eta=.1; # set the learning rate \n",
    "tol=1e-2; # set the tolerance/stopping criterion; try 0.01\n",
    "nIts=50000; # set the maximum number of allowed iterations\n",
    "totErr=10; # set the maximum training error to an initially high value\n",
    "totErr_hist=[] # history of totall error\n",
    "\n",
    "for c in range(nIts): # for each learning iteration\n",
    "    p=mod(c,Np) # sequential presentation of the training samples\n",
    "    #p=random.randint(Np); # choose a traing pattern at random\n",
    "    \n",
    "    # Forward propagation:\n",
    "    y=W.dot(X[p])\n",
    "    \n",
    "    # Backward propagation:\n",
    "    deltaW=eta*outer(Y[p].T-y,X[p]) # delta learning\n",
    "    W=W+deltaW;  # apply the weight update\n",
    "    \n",
    "    \n",
    "    #print(W)\n",
    "    #print(Y[p].T-y)\n",
    "\n",
    "    # Checking if done:\n",
    "    if(mod(c,10*Np)==0): # after 10 updates check total errors\n",
    "        predY=W.dot(X.T) # testing ALL the training samples\n",
    "        totErr=sum((Y.T-predY)**2) # sum of squared errors for all samples\n",
    "        totErr_hist.append(totErr)\n",
    "\n",
    "    if(totErr<tol):\n",
    "        break # break if max error is below tolerance\n",
    "        \n",
    "plot(totErr_hist);\n",
    "title(str(c)+':'+str(totErr));\n",
    "print('Ideal results:')\n",
    "print(Y)\n",
    "print('Reality:')\n",
    "print(predY.T) # predicted Y"
   ]
  },
  {
   "cell_type": "markdown",
   "metadata": {},
   "source": [
    "### First, try the models with bias terms\n",
    "\n",
    "##### Change the input from [X] to [b,X]"
   ]
  },
  {
   "cell_type": "code",
   "execution_count": 4,
   "metadata": {
    "scrolled": false
   },
   "outputs": [
    {
     "name": "stdout",
     "output_type": "stream",
     "text": [
      "Ideal results:\n",
      "[[1 0]\n",
      " [1 0]\n",
      " [1 0]\n",
      " [0 1]\n",
      " [0 1]\n",
      " [0 1]]\n",
      "Reality:\n",
      "[[ 0.849  0.151]\n",
      " [ 0.811  0.189]\n",
      " [ 1.151 -0.151]\n",
      " [ 0.189  0.811]\n",
      " [ 0.208  0.792]\n",
      " [-0.113  1.113]]\n"
     ]
    },
    {
     "data": {
      "image/png": "[encoded data removed]",
      "text/plain": [
       "<Figure size 432x288 with 1 Axes>"
      ]
     },
     "metadata": {},
     "output_type": "display_data"
    }
   ],
   "source": [
    "### Write your codes with bias terms here\n",
    "\n",
    "# Here we train a two-layered network of units \n",
    "# with a linear activation function f(x)=x\n",
    "# to associate patterns using the delta rule dW=(t-y)*x\n",
    "\n",
    "set_printoptions(precision=3,suppress=True)\n",
    "b = 1\n",
    "X=array([[b,1,0,0,0],[b,0,1,0,0],[b,1,1,0,0],[b,0,0,1,0],[b,0,0,0,1],[b,0,0,1,1]])\n",
    "Y=array([[1,0],[1,0],[1,0],[0,1],[0,1],[0,1]])\n",
    "[Np,Nx]=X.shape; # find numbers of patterns and input dimensions\n",
    "[Np,Ny]=Y.shape; # find numbers of patterns and output dimensions\n",
    "W=random.rand(Ny,Nx); # set initially random connectivity matrix\n",
    "#print(W)\n",
    "eta=.1; # set the learning rate \n",
    "tol=1e-2; # set the tolerance/stopping criterion; try 0.01\n",
    "nIts=50000; # set the maximum number of allowed iterations\n",
    "totErr=10; # set the maximum training error to an initially high value\n",
    "totErr_hist=[] # history of totall error\n",
    "\n",
    "for c in range(nIts): # for each learning iteration\n",
    "    p=mod(c,Np) # sequential presentation of the training samples\n",
    "    #p=random.randint(Np); # choose a traing pattern at random\n",
    "    \n",
    "    # Forward propagation:\n",
    "    y=W.dot(X[p])\n",
    "    \n",
    "    # Backward propagation:\n",
    "    deltaW=eta*outer(Y[p].T-y,X[p]) # delta learning\n",
    "    W=W+deltaW;  # apply the weight update\n",
    "    \n",
    "    \n",
    "    #print(W)\n",
    "    #print(Y[p].T-y)\n",
    "\n",
    "    # Checking if done:\n",
    "    if(mod(c,10*Np)==0): # after 10 updates check total errors\n",
    "        predY=W.dot(X.T) # testing ALL the training samples\n",
    "        totErr=sum((Y.T-predY)**2) # sum of squared errors for all samples\n",
    "        totErr_hist.append(totErr)\n",
    "\n",
    "    if(totErr<tol):\n",
    "        break # break if max error is below tolerance\n",
    "        \n",
    "plot(totErr_hist);\n",
    "title(str(c)+':'+str(totErr));\n",
    "print('Ideal results:')\n",
    "print(Y)\n",
    "print('Reality:')\n",
    "print(predY.T) # predicted Y"
   ]
  },
  {
   "cell_type": "markdown",
   "metadata": {},
   "source": [
    "It turns that the model with bias terms: <br>\n",
    "behaves better when y = 1 (y_pred = 0.8~1.1 compared to y = 0.6~1.3 without bias), but <br>\n",
    "behaves worse when y = 0 (y_pred = -0.15~0.2 compared to y = 0 without bias) <br>\n",
    "In general, the fitting is still poor"
   ]
  },
  {
   "cell_type": "markdown",
   "metadata": {},
   "source": [
    "### How about changing the learning rate?\n",
    "\n",
    "##### Try learning rate = .05, .2, and .4"
   ]
  },
  {
   "cell_type": "code",
   "execution_count": 11,
   "metadata": {},
   "outputs": [
    {
     "name": "stdout",
     "output_type": "stream",
     "text": [
      "Learning rate = 0.05\n",
      "Ideal results:\n",
      "[[1 0]\n",
      " [1 0]\n",
      " [1 0]\n",
      " [0 1]\n",
      " [0 1]\n",
      " [0 1]]\n",
      "Reality:\n",
      "[[ 0.841  0.159]\n",
      " [ 0.823  0.177]\n",
      " [ 1.159 -0.159]\n",
      " [ 0.177  0.823]\n",
      " [ 0.186  0.814]\n",
      " [-0.142  1.142]]\n"
     ]
    },
    {
     "data": {
      "image/png": "[encoded data removed]",
      "text/plain": [
       "<Figure size 432x288 with 1 Axes>"
      ]
     },
     "metadata": {},
     "output_type": "display_data"
    }
   ],
   "source": [
    "### Write your codes with bias terms here\n",
    "print(\"Learning rate = 0.05\")\n",
    "# Here we train a two-layered network of units \n",
    "# with a linear activation function f(x)=x\n",
    "# to associate patterns using the delta rule dW=(t-y)*x\n",
    "\n",
    "set_printoptions(precision=3,suppress=True)\n",
    "b = 1\n",
    "X=array([[b,1,0,0,0],[b,0,1,0,0],[b,1,1,0,0],[b,0,0,1,0],[b,0,0,0,1],[b,0,0,1,1]])\n",
    "Y=array([[1,0],[1,0],[1,0],[0,1],[0,1],[0,1]])\n",
    "[Np,Nx]=X.shape; # find numbers of patterns and input dimensions\n",
    "[Np,Ny]=Y.shape; # find numbers of patterns and output dimensions\n",
    "W=random.rand(Ny,Nx); # set initially random connectivity matrix\n",
    "#print(W)\n",
    "eta=.05; # set the learning rate \n",
    "tol=1e-2; # set the tolerance/stopping criterion; try 0.01\n",
    "nIts=50000; # set the maximum number of allowed iterations\n",
    "totErr=10; # set the maximum training error to an initially high value\n",
    "totErr_hist=[] # history of totall error\n",
    "\n",
    "for c in range(nIts): # for each learning iteration\n",
    "    p=mod(c,Np) # sequential presentation of the training samples\n",
    "    #p=random.randint(Np); # choose a traing pattern at random\n",
    "    \n",
    "    # Forward propagation:\n",
    "    y=W.dot(X[p])\n",
    "    \n",
    "    # Backward propagation:\n",
    "    deltaW=eta*outer(Y[p].T-y,X[p]) # delta learning\n",
    "    W=W+deltaW;  # apply the weight update\n",
    "    \n",
    "    \n",
    "    #print(W)\n",
    "    #print(Y[p].T-y)\n",
    "\n",
    "    # Checking if done:\n",
    "    if(mod(c,10*Np)==0): # after 10 updates check total errors\n",
    "        predY=W.dot(X.T) # testing ALL the training samples\n",
    "        totErr=sum((Y.T-predY)**2) # sum of squared errors for all samples\n",
    "        totErr_hist.append(totErr)\n",
    "\n",
    "    if(totErr<tol):\n",
    "        break # break if max error is below tolerance\n",
    "        \n",
    "plot(totErr_hist);\n",
    "title(str(c)+':'+str(totErr));\n",
    "print('Ideal results:')\n",
    "print(Y)\n",
    "print('Reality:')\n",
    "print(predY.T) # predicted Y"
   ]
  },
  {
   "cell_type": "code",
   "execution_count": 12,
   "metadata": {},
   "outputs": [
    {
     "name": "stdout",
     "output_type": "stream",
     "text": [
      "Learning rate = 0.2\n",
      "Ideal results:\n",
      "[[1 0]\n",
      " [1 0]\n",
      " [1 0]\n",
      " [0 1]\n",
      " [0 1]\n",
      " [0 1]]\n",
      "Reality:\n",
      "[[ 0.87   0.13 ]\n",
      " [ 0.783  0.217]\n",
      " [ 1.13  -0.13 ]\n",
      " [ 0.217  0.783]\n",
      " [ 0.261  0.739]\n",
      " [-0.043  1.043]]\n"
     ]
    },
    {
     "data": {
      "image/png": "[encoded data removed]",
      "text/plain": [
       "<Figure size 432x288 with 1 Axes>"
      ]
     },
     "metadata": {},
     "output_type": "display_data"
    }
   ],
   "source": [
    "### Write your codes with bias terms here\n",
    "print(\"Learning rate = 0.2\")\n",
    "# Here we train a two-layered network of units \n",
    "# with a linear activation function f(x)=x\n",
    "# to associate patterns using the delta rule dW=(t-y)*x\n",
    "\n",
    "set_printoptions(precision=3,suppress=True)\n",
    "b = 1\n",
    "X=array([[b,1,0,0,0],[b,0,1,0,0],[b,1,1,0,0],[b,0,0,1,0],[b,0,0,0,1],[b,0,0,1,1]])\n",
    "Y=array([[1,0],[1,0],[1,0],[0,1],[0,1],[0,1]])\n",
    "[Np,Nx]=X.shape; # find numbers of patterns and input dimensions\n",
    "[Np,Ny]=Y.shape; # find numbers of patterns and output dimensions\n",
    "W=random.rand(Ny,Nx); # set initially random connectivity matrix\n",
    "#print(W)\n",
    "eta=.2; # set the learning rate \n",
    "tol=1e-2; # set the tolerance/stopping criterion; try 0.01\n",
    "nIts=50000; # set the maximum number of allowed iterations\n",
    "totErr=10; # set the maximum training error to an initially high value\n",
    "totErr_hist=[] # history of totall error\n",
    "\n",
    "for c in range(nIts): # for each learning iteration\n",
    "    p=mod(c,Np) # sequential presentation of the training samples\n",
    "    #p=random.randint(Np); # choose a traing pattern at random\n",
    "    \n",
    "    # Forward propagation:\n",
    "    y=W.dot(X[p])\n",
    "    \n",
    "    # Backward propagation:\n",
    "    deltaW=eta*outer(Y[p].T-y,X[p]) # delta learning\n",
    "    W=W+deltaW;  # apply the weight update\n",
    "    \n",
    "    \n",
    "    #print(W)\n",
    "    #print(Y[p].T-y)\n",
    "\n",
    "    # Checking if done:\n",
    "    if(mod(c,10*Np)==0): # after 10 updates check total errors\n",
    "        predY=W.dot(X.T) # testing ALL the training samples\n",
    "        totErr=sum((Y.T-predY)**2) # sum of squared errors for all samples\n",
    "        totErr_hist.append(totErr)\n",
    "\n",
    "    if(totErr<tol):\n",
    "        break # break if max error is below tolerance\n",
    "        \n",
    "plot(totErr_hist);\n",
    "title(str(c)+':'+str(totErr));\n",
    "print('Ideal results:')\n",
    "print(Y)\n",
    "print('Reality:')\n",
    "print(predY.T) # predicted Y"
   ]
  },
  {
   "cell_type": "code",
   "execution_count": 14,
   "metadata": {},
   "outputs": [
    {
     "name": "stdout",
     "output_type": "stream",
     "text": [
      "Learning rate = 0.4\n",
      "Ideal results:\n",
      "[[1 0]\n",
      " [1 0]\n",
      " [1 0]\n",
      " [0 1]\n",
      " [0 1]\n",
      " [0 1]]\n",
      "Reality:\n",
      "[[ 0.938  0.062]\n",
      " [ 0.687  0.312]\n",
      " [ 1.062 -0.062]\n",
      " [ 0.312  0.687]\n",
      " [ 0.437  0.562]\n",
      " [ 0.188  0.812]]\n"
     ]
    },
    {
     "data": {
      "image/png": "[encoded data removed]",
      "text/plain": [
       "<Figure size 432x288 with 1 Axes>"
      ]
     },
     "metadata": {},
     "output_type": "display_data"
    }
   ],
   "source": [
    "### Write your codes with bias terms here\n",
    "print(\"Learning rate = 0.4\")\n",
    "# Here we train a two-layered network of units \n",
    "# with a linear activation function f(x)=x\n",
    "# to associate patterns using the delta rule dW=(t-y)*x\n",
    "\n",
    "set_printoptions(precision=3,suppress=True)\n",
    "b = 1\n",
    "X=array([[b,1,0,0,0],[b,0,1,0,0],[b,1,1,0,0],[b,0,0,1,0],[b,0,0,0,1],[b,0,0,1,1]])\n",
    "Y=array([[1,0],[1,0],[1,0],[0,1],[0,1],[0,1]])\n",
    "[Np,Nx]=X.shape; # find numbers of patterns and input dimensions\n",
    "[Np,Ny]=Y.shape; # find numbers of patterns and output dimensions\n",
    "W=random.rand(Ny,Nx); # set initially random connectivity matrix\n",
    "#print(W)\n",
    "eta=.4; # set the learning rate \n",
    "tol=1e-2; # set the tolerance/stopping criterion; try 0.01\n",
    "nIts=50000; # set the maximum number of allowed iterations\n",
    "totErr=10; # set the maximum training error to an initially high value\n",
    "totErr_hist=[] # history of totall error\n",
    "\n",
    "for c in range(nIts): # for each learning iteration\n",
    "    p=mod(c,Np) # sequential presentation of the training samples\n",
    "    #p=random.randint(Np); # choose a traing pattern at random\n",
    "    \n",
    "    # Forward propagation:\n",
    "    y=W.dot(X[p])\n",
    "    \n",
    "    # Backward propagation:\n",
    "    deltaW=eta*outer(Y[p].T-y,X[p]) # delta learning\n",
    "    W=W+deltaW;  # apply the weight update\n",
    "    \n",
    "    \n",
    "    #print(W)\n",
    "    #print(Y[p].T-y)\n",
    "\n",
    "    # Checking if done:\n",
    "    if(mod(c,10*Np)==0): # after 10 updates check total errors\n",
    "        predY=W.dot(X.T) # testing ALL the training samples\n",
    "        totErr=sum((Y.T-predY)**2) # sum of squared errors for all samples\n",
    "        totErr_hist.append(totErr)\n",
    "\n",
    "    if(totErr<tol):\n",
    "        break # break if max error is below tolerance\n",
    "        \n",
    "plot(totErr_hist);\n",
    "title(str(c)+':'+str(totErr));\n",
    "print('Ideal results:')\n",
    "print(Y)\n",
    "print('Reality:')\n",
    "print(predY.T) # predicted Y"
   ]
  },
  {
   "cell_type": "markdown",
   "metadata": {},
   "source": [
    "Still, the fitting are not satisfying!"
   ]
  },
  {
   "cell_type": "markdown",
   "metadata": {},
   "source": [
    "### Changing the amount of training \n",
    "\n",
    "##### learning rate = 0.1, the amount of training = 200, 10000, 40000(original), 80000"
   ]
  },
  {
   "cell_type": "code",
   "execution_count": 29,
   "metadata": {},
   "outputs": [
    {
     "name": "stdout",
     "output_type": "stream",
     "text": [
      "The amount of training = 200\n",
      "Ideal results:\n",
      "[[1 0]\n",
      " [1 0]\n",
      " [1 0]\n",
      " [0 1]\n",
      " [0 1]\n",
      " [0 1]]\n",
      "Reality:\n",
      "[[ 0.775  0.084]\n",
      " [ 0.723  0.12 ]\n",
      " [ 1.275 -0.045]\n",
      " [ 0.108  0.74 ]\n",
      " [ 0.112  0.716]\n",
      " [-0.003  1.206]]\n"
     ]
    },
    {
     "data": {
      "image/png": "[encoded data removed]",
      "text/plain": [
       "<Figure size 432x288 with 1 Axes>"
      ]
     },
     "metadata": {},
     "output_type": "display_data"
    }
   ],
   "source": [
    "### Write your codes with bias terms here\n",
    "print(\"The amount of training = 200\")\n",
    "# Here we train a two-layered network of units \n",
    "# with a linear activation function f(x)=x\n",
    "# to associate patterns using the delta rule dW=(t-y)*x\n",
    "\n",
    "set_printoptions(precision=3,suppress=True)\n",
    "b = 1\n",
    "X=array([[b,1,0,0,0],[b,0,1,0,0],[b,1,1,0,0],[b,0,0,1,0],[b,0,0,0,1],[b,0,0,1,1]])\n",
    "Y=array([[1,0],[1,0],[1,0],[0,1],[0,1],[0,1]])\n",
    "[Np,Nx]=X.shape; # find numbers of patterns and input dimensions\n",
    "[Np,Ny]=Y.shape; # find numbers of patterns and output dimensions\n",
    "W=random.rand(Ny,Nx); # set initially random connectivity matrix\n",
    "#print(W)\n",
    "eta=.1; # set the learning rate \n",
    "tol=1e-2; # set the tolerance/stopping criterion; try 0.01\n",
    "nIts=200; # set the maximum number of allowed iterations\n",
    "totErr=10; # set the maximum training error to an initially high value\n",
    "totErr_hist=[] # history of totall error\n",
    "\n",
    "for c in range(nIts): # for each learning iteration\n",
    "    p=mod(c,Np) # sequential presentation of the training samples\n",
    "    #p=random.randint(Np); # choose a traing pattern at random\n",
    "    \n",
    "    # Forward propagation:\n",
    "    y=W.dot(X[p])\n",
    "    \n",
    "    # Backward propagation:\n",
    "    deltaW=eta*outer(Y[p].T-y,X[p]) # delta learning\n",
    "    W=W+deltaW;  # apply the weight update\n",
    "    \n",
    "    \n",
    "    #print(W)\n",
    "    #print(Y[p].T-y)\n",
    "\n",
    "    # Checking if done:\n",
    "    if(mod(c,10*Np)==0): # after 10 updates check total errors\n",
    "        predY=W.dot(X.T) # testing ALL the training samples\n",
    "        totErr=sum((Y.T-predY)**2) # sum of squared errors for all samples\n",
    "        totErr_hist.append(totErr)\n",
    "\n",
    "    if(totErr<tol):\n",
    "        break # break if max error is below tolerance\n",
    "        \n",
    "plot(totErr_hist);\n",
    "title(str(c)+':'+str(totErr));\n",
    "print('Ideal results:')\n",
    "print(Y)\n",
    "print('Reality:')\n",
    "print(predY.T) # predicted Y"
   ]
  },
  {
   "cell_type": "code",
   "execution_count": 30,
   "metadata": {},
   "outputs": [
    {
     "name": "stdout",
     "output_type": "stream",
     "text": [
      "The amount of training = 10000\n",
      "Ideal results:\n",
      "[[1 0]\n",
      " [1 0]\n",
      " [1 0]\n",
      " [0 1]\n",
      " [0 1]\n",
      " [0 1]]\n",
      "Reality:\n",
      "[[ 0.849  0.151]\n",
      " [ 0.811  0.189]\n",
      " [ 1.151 -0.151]\n",
      " [ 0.189  0.811]\n",
      " [ 0.208  0.792]\n",
      " [-0.113  1.113]]\n"
     ]
    },
    {
     "data": {
      "image/png": "[encoded data removed]",
      "text/plain": [
       "<Figure size 432x288 with 1 Axes>"
      ]
     },
     "metadata": {},
     "output_type": "display_data"
    }
   ],
   "source": [
    "### Write your codes with bias terms here\n",
    "print(\"The amount of training = 10000\")\n",
    "# Here we train a two-layered network of units \n",
    "# with a linear activation function f(x)=x\n",
    "# to associate patterns using the delta rule dW=(t-y)*x\n",
    "\n",
    "set_printoptions(precision=3,suppress=True)\n",
    "b = 1\n",
    "X=array([[b,1,0,0,0],[b,0,1,0,0],[b,1,1,0,0],[b,0,0,1,0],[b,0,0,0,1],[b,0,0,1,1]])\n",
    "Y=array([[1,0],[1,0],[1,0],[0,1],[0,1],[0,1]])\n",
    "[Np,Nx]=X.shape; # find numbers of patterns and input dimensions\n",
    "[Np,Ny]=Y.shape; # find numbers of patterns and output dimensions\n",
    "W=random.rand(Ny,Nx); # set initially random connectivity matrix\n",
    "#print(W)\n",
    "eta=.1; # set the learning rate \n",
    "tol=1e-2; # set the tolerance/stopping criterion; try 0.01\n",
    "nIts=10000; # set the maximum number of allowed iterations\n",
    "totErr=10; # set the maximum training error to an initially high value\n",
    "totErr_hist=[] # history of totall error\n",
    "\n",
    "for c in range(nIts): # for each learning iteration\n",
    "    p=mod(c,Np) # sequential presentation of the training samples\n",
    "    #p=random.randint(Np); # choose a traing pattern at random\n",
    "    \n",
    "    # Forward propagation:\n",
    "    y=W.dot(X[p])\n",
    "    \n",
    "    # Backward propagation:\n",
    "    deltaW=eta*outer(Y[p].T-y,X[p]) # delta learning\n",
    "    W=W+deltaW;  # apply the weight update\n",
    "    \n",
    "    \n",
    "    #print(W)\n",
    "    #print(Y[p].T-y)\n",
    "\n",
    "    # Checking if done:\n",
    "    if(mod(c,10*Np)==0): # after 10 updates check total errors\n",
    "        predY=W.dot(X.T) # testing ALL the training samples\n",
    "        totErr=sum((Y.T-predY)**2) # sum of squared errors for all samples\n",
    "        totErr_hist.append(totErr)\n",
    "\n",
    "    if(totErr<tol):\n",
    "        break # break if max error is below tolerance\n",
    "        \n",
    "plot(totErr_hist);\n",
    "title(str(c)+':'+str(totErr));\n",
    "print('Ideal results:')\n",
    "print(Y)\n",
    "print('Reality:')\n",
    "print(predY.T) # predicted Y"
   ]
  },
  {
   "cell_type": "code",
   "execution_count": 31,
   "metadata": {},
   "outputs": [
    {
     "name": "stdout",
     "output_type": "stream",
     "text": [
      "The amount of training = 40000\n",
      "Ideal results:\n",
      "[[1 0]\n",
      " [1 0]\n",
      " [1 0]\n",
      " [0 1]\n",
      " [0 1]\n",
      " [0 1]]\n",
      "Reality:\n",
      "[[ 0.849  0.151]\n",
      " [ 0.811  0.189]\n",
      " [ 1.151 -0.151]\n",
      " [ 0.189  0.811]\n",
      " [ 0.208  0.792]\n",
      " [-0.113  1.113]]\n"
     ]
    },
    {
     "data": {
      "image/png": "[encoded data removed]",
      "text/plain": [
       "<Figure size 432x288 with 1 Axes>"
      ]
     },
     "metadata": {},
     "output_type": "display_data"
    }
   ],
   "source": [
    "### Write your codes with bias terms here\n",
    "print(\"The amount of training = 40000\")\n",
    "# Here we train a two-layered network of units \n",
    "# with a linear activation function f(x)=x\n",
    "# to associate patterns using the delta rule dW=(t-y)*x\n",
    "\n",
    "set_printoptions(precision=3,suppress=True)\n",
    "b = 1\n",
    "X=array([[b,1,0,0,0],[b,0,1,0,0],[b,1,1,0,0],[b,0,0,1,0],[b,0,0,0,1],[b,0,0,1,1]])\n",
    "Y=array([[1,0],[1,0],[1,0],[0,1],[0,1],[0,1]])\n",
    "[Np,Nx]=X.shape; # find numbers of patterns and input dimensions\n",
    "[Np,Ny]=Y.shape; # find numbers of patterns and output dimensions\n",
    "W=random.rand(Ny,Nx); # set initially random connectivity matrix\n",
    "#print(W)\n",
    "eta=.1; # set the learning rate \n",
    "tol=1e-2; # set the tolerance/stopping criterion; try 0.01\n",
    "nIts=40000; # set the maximum number of allowed iterations\n",
    "totErr=10; # set the maximum training error to an initially high value\n",
    "totErr_hist=[] # history of totall error\n",
    "\n",
    "for c in range(nIts): # for each learning iteration\n",
    "    p=mod(c,Np) # sequential presentation of the training samples\n",
    "    #p=random.randint(Np); # choose a traing pattern at random\n",
    "    \n",
    "    # Forward propagation:\n",
    "    y=W.dot(X[p])\n",
    "    \n",
    "    # Backward propagation:\n",
    "    deltaW=eta*outer(Y[p].T-y,X[p]) # delta learning\n",
    "    W=W+deltaW;  # apply the weight update\n",
    "    \n",
    "    \n",
    "    #print(W)\n",
    "    #print(Y[p].T-y)\n",
    "\n",
    "    # Checking if done:\n",
    "    if(mod(c,10*Np)==0): # after 10 updates check total errors\n",
    "        predY=W.dot(X.T) # testing ALL the training samples\n",
    "        totErr=sum((Y.T-predY)**2) # sum of squared errors for all samples\n",
    "        totErr_hist.append(totErr)\n",
    "\n",
    "    if(totErr<tol):\n",
    "        break # break if max error is below tolerance\n",
    "        \n",
    "plot(totErr_hist);\n",
    "title(str(c)+':'+str(totErr));\n",
    "print('Ideal results:')\n",
    "print(Y)\n",
    "print('Reality:')\n",
    "print(predY.T) # predicted Y"
   ]
  },
  {
   "cell_type": "code",
   "execution_count": 32,
   "metadata": {},
   "outputs": [
    {
     "name": "stdout",
     "output_type": "stream",
     "text": [
      "The amount of training = 80000\n",
      "Ideal results:\n",
      "[[1 0]\n",
      " [1 0]\n",
      " [1 0]\n",
      " [0 1]\n",
      " [0 1]\n",
      " [0 1]]\n",
      "Reality:\n",
      "[[ 0.849  0.151]\n",
      " [ 0.811  0.189]\n",
      " [ 1.151 -0.151]\n",
      " [ 0.189  0.811]\n",
      " [ 0.208  0.792]\n",
      " [-0.113  1.113]]\n"
     ]
    },
    {
     "data": {
      "image/png": "[encoded data removed]",
      "text/plain": [
       "<Figure size 432x288 with 1 Axes>"
      ]
     },
     "metadata": {},
     "output_type": "display_data"
    }
   ],
   "source": [
    "### Write your codes with bias terms here\n",
    "print(\"The amount of training = 80000\")\n",
    "# Here we train a two-layered network of units \n",
    "# with a linear activation function f(x)=x\n",
    "# to associate patterns using the delta rule dW=(t-y)*x\n",
    "\n",
    "set_printoptions(precision=3,suppress=True)\n",
    "b = 1\n",
    "X=array([[b,1,0,0,0],[b,0,1,0,0],[b,1,1,0,0],[b,0,0,1,0],[b,0,0,0,1],[b,0,0,1,1]])\n",
    "Y=array([[1,0],[1,0],[1,0],[0,1],[0,1],[0,1]])\n",
    "[Np,Nx]=X.shape; # find numbers of patterns and input dimensions\n",
    "[Np,Ny]=Y.shape; # find numbers of patterns and output dimensions\n",
    "W=random.rand(Ny,Nx); # set initially random connectivity matrix\n",
    "#print(W)\n",
    "eta=.1; # set the learning rate \n",
    "tol=1e-2; # set the tolerance/stopping criterion; try 0.01\n",
    "nIts=80000; # set the maximum number of allowed iterations\n",
    "totErr=10; # set the maximum training error to an initially high value\n",
    "totErr_hist=[] # history of totall error\n",
    "\n",
    "for c in range(nIts): # for each learning iteration\n",
    "    p=mod(c,Np) # sequential presentation of the training samples\n",
    "    #p=random.randint(Np); # choose a traing pattern at random\n",
    "    \n",
    "    # Forward propagation:\n",
    "    y=W.dot(X[p])\n",
    "    \n",
    "    # Backward propagation:\n",
    "    deltaW=eta*outer(Y[p].T-y,X[p]) # delta learning\n",
    "    W=W+deltaW;  # apply the weight update\n",
    "    \n",
    "    \n",
    "    #print(W)\n",
    "    #print(Y[p].T-y)\n",
    "\n",
    "    # Checking if done:\n",
    "    if(mod(c,10*Np)==0): # after 10 updates check total errors\n",
    "        predY=W.dot(X.T) # testing ALL the training samples\n",
    "        totErr=sum((Y.T-predY)**2) # sum of squared errors for all samples\n",
    "        totErr_hist.append(totErr)\n",
    "\n",
    "    if(totErr<tol):\n",
    "        break # break if max error is below tolerance\n",
    "        \n",
    "plot(totErr_hist);\n",
    "title(str(c)+':'+str(totErr));\n",
    "print('Ideal results:')\n",
    "print(Y)\n",
    "print('Reality:')\n",
    "print(predY.T) # predicted Y"
   ]
  },
  {
   "cell_type": "markdown",
   "metadata": {},
   "source": [
    "Summary: iteration = 10000 is enough for training, since the result are the same in iteration = 40000, 80000\n",
    "\n",
    "Interestingly, iternation = 200 is not enough for the bias term to drive y1 + y2 = 1\n"
   ]
  },
  {
   "cell_type": "markdown",
   "metadata": {},
   "source": [
    "### In sum, it seems that the network is poor to fit the data, irrespective of bias terms included, learning rates, or the amount of training, so what happened?\n",
    "\n",
    "##### To tackle this, the training details when training trial = 39900 (100th trial beforce the training ends) ~ 39903 (97 trial before the training ends) are printed out:\n",
    "\n"
   ]
  },
  {
   "cell_type": "code",
   "execution_count": 28,
   "metadata": {},
   "outputs": [
    {
     "name": "stdout",
     "output_type": "stream",
     "text": [
      "c = 39900\n",
      "preW\n",
      "[[ 0.491  0.321  0.302 -0.321 -0.302]\n",
      " [ 0.509 -0.321 -0.302  0.321  0.302]]\n",
      "X[p]\n",
      "[1 1 0 0 0]\n",
      "predY\n",
      "[[ 0.849  0.811  1.151  0.189  0.208 -0.113]\n",
      " [ 0.151  0.189 -0.151  0.811  0.792  1.113]]\n",
      "Y[p].T\n",
      "[1 0]\n",
      "deltaW\n",
      "[[ 0.019  0.019  0.     0.     0.   ]\n",
      " [-0.019 -0.019 -0.    -0.    -0.   ]]\n",
      "W\n",
      "[[ 0.509  0.34   0.302 -0.321 -0.302]\n",
      " [ 0.491 -0.34  -0.302  0.321  0.302]]\n",
      "\n",
      "\n",
      "c = 39901\n",
      "preW\n",
      "[[ 0.509  0.34   0.302 -0.321 -0.302]\n",
      " [ 0.491 -0.34  -0.302  0.321  0.302]]\n",
      "X[p]\n",
      "[1 0 1 0 0]\n",
      "predY\n",
      "[[ 0.849  0.811  1.151  0.189  0.208 -0.113]\n",
      " [ 0.151  0.189 -0.151  0.811  0.792  1.113]]\n",
      "Y[p].T\n",
      "[1 0]\n",
      "deltaW\n",
      "[[ 0.019  0.     0.019  0.     0.   ]\n",
      " [-0.019 -0.    -0.019 -0.    -0.   ]]\n",
      "W\n",
      "[[ 0.528  0.34   0.321 -0.321 -0.302]\n",
      " [ 0.472 -0.34  -0.321  0.321  0.302]]\n",
      "\n",
      "\n",
      "c = 39902\n",
      "preW\n",
      "[[ 0.528  0.34   0.321 -0.321 -0.302]\n",
      " [ 0.472 -0.34  -0.321  0.321  0.302]]\n",
      "X[p]\n",
      "[1 1 1 0 0]\n",
      "predY\n",
      "[[ 0.849  0.811  1.151  0.189  0.208 -0.113]\n",
      " [ 0.151  0.189 -0.151  0.811  0.792  1.113]]\n",
      "Y[p].T\n",
      "[1 0]\n",
      "deltaW\n",
      "[[-0.019 -0.019 -0.019 -0.    -0.   ]\n",
      " [ 0.019  0.019  0.019  0.     0.   ]]\n",
      "W\n",
      "[[ 0.509  0.321  0.302 -0.321 -0.302]\n",
      " [ 0.491 -0.321 -0.302  0.321  0.302]]\n",
      "\n",
      "\n",
      "\n",
      "Ideal results:\n",
      "[[1 0]\n",
      " [1 0]\n",
      " [1 0]\n",
      " [0 1]\n",
      " [0 1]\n",
      " [0 1]]\n",
      "Reality:\n",
      "[[ 0.849  0.151]\n",
      " [ 0.811  0.189]\n",
      " [ 1.151 -0.151]\n",
      " [ 0.189  0.811]\n",
      " [ 0.208  0.792]\n",
      " [-0.113  1.113]]\n"
     ]
    },
    {
     "data": {
      "image/png": "[encoded data removed]",
      "text/plain": [
       "<Figure size 432x288 with 1 Axes>"
      ]
     },
     "metadata": {},
     "output_type": "display_data"
    }
   ],
   "source": [
    "### Write your codes with bias terms here\n",
    "\n",
    "# Here we train a two-layered network of units \n",
    "# with a linear activation function f(x)=x\n",
    "# to associate patterns using the delta rule dW=(t-y)*x\n",
    "\n",
    "set_printoptions(precision=3,suppress=True)\n",
    "b = 1\n",
    "X=array([[b,1,0,0,0],[b,0,1,0,0],[b,1,1,0,0],[b,0,0,1,0],[b,0,0,0,1],[b,0,0,1,1]])\n",
    "Y=array([[1,0],[1,0],[1,0],[0,1],[0,1],[0,1]])\n",
    "[Np,Nx]=X.shape; # find numbers of patterns and input dimensions\n",
    "[Np,Ny]=Y.shape; # find numbers of patterns and output dimensions\n",
    "W=random.rand(Ny,Nx); # set initially random connectivity matrix\n",
    "#print(W)\n",
    "eta=.1; # set the learning rate \n",
    "tol=1e-2; # set the tolerance/stopping criterion; try 0.01\n",
    "nIts=40000; # set the maximum number of allowed iterations\n",
    "totErr=10; # set the maximum training error to an initially high value\n",
    "totErr_hist=[] # history of totall error\n",
    "\n",
    "for c in range(nIts): # for each learning iteration\n",
    "    p=mod(c,Np) # sequential presentation of the training samples\n",
    "    #p=random.randint(Np); # choose a traing pattern at random\n",
    "    \n",
    "    # Forward propagation:\n",
    "    y=W.dot(X[p])\n",
    "    \n",
    "    # Backward propagation:\n",
    "    deltaW=eta*outer(Y[p].T-y,X[p]) # delta learning\n",
    "    preW = W\n",
    "    W=W+deltaW;  # apply the weight update\n",
    "    \n",
    "    \n",
    "    #print(W)\n",
    "    #print(Y[p].T-y)\n",
    "\n",
    "    # Checking if done:\n",
    "    if(mod(c,10*Np)==0): # after 10 updates check total errors\n",
    "        predY=W.dot(X.T) # testing ALL the training samples\n",
    "        totErr=sum((Y.T-predY)**2) # sum of squared errors for all samples\n",
    "        totErr_hist.append(totErr)\n",
    "        \n",
    "    if c > 39899 and c < 39903:\n",
    "        print(\"c = \"+str(c))\n",
    "        print(\"preW\")\n",
    "        print(preW)\n",
    "        print(\"X[p]\")\n",
    "        print(X[p])\n",
    "        print(\"predY\")\n",
    "        print(predY)\n",
    "        print(\"Y[p].T\")\n",
    "        print(Y[p].T)\n",
    "        print(\"deltaW\")\n",
    "        print(deltaW)\n",
    "        print(\"W\")\n",
    "        print(W)\n",
    "        print(\"\\n\")\n",
    "\n",
    "    if(totErr<tol):\n",
    "        break # break if max error is below tolerance\n",
    "        \n",
    "plot(totErr_hist);\n",
    "title(str(c)+':'+str(totErr));\n",
    "print('\\nIdeal results:')\n",
    "print(Y)\n",
    "print('Reality:')\n",
    "print(predY.T) # predicted Y"
   ]
  },
  {
   "cell_type": "markdown",
   "metadata": {},
   "source": [
    "#### Trial = 39900\n",
    "Since x = [1 1 0 0 0], y = [1,0] only weightings of bias to y and x1 to y are updated:<br>\n",
    "EX. b1: 0.491 -> 0.509; x11: 0.321 -> 0.34, due to a positive prediction error (1-0.81)\n",
    "\n",
    "#### Trial = 39901\n",
    "Since x = [1 0 1 0 0], y = [1,0] only weightings of bias to y and x2 to y are updated:<br>\n",
    "EX. b1: 0.509 -> 0.528; x21: 0.302 -> 0.321, due to a positive prediction error (1-0.81)\n",
    "\n",
    "#### Trial = 39902\n",
    "Since x = [1 1 1 0 0], y = [1,0] weightings of bias to y and x1 to y are updated:<br>\n",
    "At this trial, all the updated weighting linearly contributed to the prediction: b1 + x11 + x21 = 1.19, which result in a negative prediction error (1-1.19), whose magntidue is the same as of those in trial 39900 and 39901. Therefore, all the updated weighting are canceled out and go back to those of trial = 39899.\n",
    "\n",
    "The root cause is that the prediction, that is, the activation function is **linear**, which intrinsically cannot fit the nonlinear pattern in the data (1,0)->1, (0,1)->1, (1,1)->1. Only if we change into **nonlinear** activation function (Ex. sigmoid function in the 07_examples) can we significantly improve the fitting:  \n"
   ]
  },
  {
   "cell_type": "code",
   "execution_count": 37,
   "metadata": {},
   "outputs": [
    {
     "name": "stdout",
     "output_type": "stream",
     "text": [
      "[[0.965 0.035]\n",
      " [0.965 0.035]\n",
      " [0.999 0.001]\n",
      " [0.035 0.965]\n",
      " [0.035 0.965]\n",
      " [0.001 0.999]]\n"
     ]
    },
    {
     "data": {
      "image/png": "[encoded data removed]",
      "text/plain": [
       "<Figure size 432x288 with 1 Axes>"
      ]
     },
     "metadata": {},
     "output_type": "display_data"
    }
   ],
   "source": [
    "# Here we train a two-layered network of units \n",
    "# with the sigmoid/logistic activation function f\n",
    "# to associate patterns using the delta rule dW=(t-y)*(df/dx)*x\n",
    "\n",
    "set_printoptions(precision=3,suppress=True)\n",
    "\n",
    "X=matrix('1 0 0 0;0 1 0 0;1 1 0 0;0 0 1 0;0 0 0 1;0 0 1 1')\n",
    "Y=matrix('1 0;1 0;1 0;0 1;0 1;0 1')\n",
    "#Y=matrix('0.3 0;0.5 0;0.7 0;0 0.3;0 0.5;0 0.7') # try continuous values\n",
    "[Np,Nx]=X.shape; # find numbers of patterns and inputs \n",
    "[Np,Ny]=Y.shape; # find numbers of patterns and outputs \n",
    "W=asmatrix(random.rand(Ny,Nx)-0.5); # set initially random connectivity matrix\n",
    "\n",
    "eta=0.1; # set the learning rate # try 0.1\n",
    "tol=1e-2; # set the tolerance/stopping criterion; try 0.01\n",
    "nIts=50000; # set the maximum number of allowed iterations\n",
    "totErr=10; # set the maximum training error to an initially high value\n",
    "totErr_hist=[]\n",
    "\n",
    "for c in range(nIts): # for each learning iteration\n",
    "    p=mod(c,Np) # sequential presentation of the training samples\n",
    "    #p=random.randint(nP); # choose pattern pair at random\n",
    "    \n",
    "    # Forward propagation:\n",
    "    y0=W*X[p].T\n",
    "    y=1/(1+exp(-y0)) # activation function\n",
    "    \n",
    "    # Backward propagation:\n",
    "    dy=multiply(y,1-y); # compute the derivative of the sigmoid function\n",
    "    e=Y[p].T-y; # error e for the chosen input\n",
    "    deltaW=eta*outer(multiply(e,dy),X[p])\n",
    "    W=W+deltaW;  # apply the weight update\n",
    "    \n",
    "    # Checking if done:\n",
    "    if(mod(c,10*Np)==0): # after several updates check maximum error\n",
    "        h=W*X.T # testing all the training samples\n",
    "        predY=1/(1+exp(-h))\n",
    "        totErr=sum(multiply(Y.T-predY,Y.T-predY))\n",
    "        totErr_hist.append(totErr)\n",
    "    if(totErr<tol): # one training sample reaches stopping criterion\n",
    "        break # break if max error is below tolerance\n",
    "\n",
    "plot(totErr_hist);\n",
    "title(str(c)+':'+str(totErr));\n",
    "print(predY.T) # predicted Y"
   ]
  },
  {
   "cell_type": "markdown",
   "metadata": {},
   "source": [
    "## 2 PyTorch (3 points)\n",
    "Read <a href=\"https://www.pytorchtutorial.com/pytorch-for-numpy-users/\">this tutorial</a> first and port the following Instar Learning from NumPy to PyTorch:"
   ]
  },
  {
   "cell_type": "code",
   "execution_count": 35,
   "metadata": {},
   "outputs": [
    {
     "name": "stdout",
     "output_type": "stream",
     "text": [
      "[0.561 0.375 0.281] 0.28738413218333725\n",
      "[0.406 0.349 0.388] 0.33699119355690255\n",
      "[0.29  0.331 0.468] 0.37844407805817193\n",
      "[0.212 0.318 0.522] 0.40930843374763126\n",
      "[0.164 0.31  0.556] 0.4300569193346026\n",
      "[0.136 0.306 0.575] 0.4429341483609509\n",
      "[0.12  0.303 0.586] 0.4504931968227474\n",
      "[0.111 0.302 0.593] 0.45477594697763263\n",
      "[0.106 0.301 0.596] 0.4571517206379411\n",
      "[0.103 0.301 0.598] 0.4584538164491638\n"
     ]
    }
   ],
   "source": [
    "# Instar learning:\n",
    "x=array([0.1,0.3,0.6])\n",
    "W=random.rand(3)\n",
    "for i in range(10): # trials \n",
    "    y=dot(W,x) \n",
    "    W+=y*(x-W) # postsynaptically gated InStar \n",
    "    print(W,y)"
   ]
  },
  {
   "cell_type": "code",
   "execution_count": 36,
   "metadata": {},
   "outputs": [
    {
     "name": "stdout",
     "output_type": "stream",
     "text": [
      "tensor([0.1124, 0.2222, 0.5593]) tensor(0.3844)\n",
      "tensor([0.1073, 0.2544, 0.5761]) tensor(0.4135)\n",
      "tensor([0.1041, 0.2741, 0.5865]) tensor(0.4327)\n",
      "tensor([0.1023, 0.2856, 0.5925]) tensor(0.4445)\n",
      "tensor([0.1013, 0.2921, 0.5959]) tensor(0.4514)\n",
      "tensor([0.1007, 0.2957, 0.5978]) tensor(0.4553)\n",
      "tensor([0.1004, 0.2977, 0.5988]) tensor(0.4574)\n",
      "tensor([0.1002, 0.2987, 0.5993]) tensor(0.4586)\n",
      "tensor([0.1001, 0.2993, 0.5996]) tensor(0.4592)\n",
      "tensor([0.1001, 0.2996, 0.5998]) tensor(0.4596)\n"
     ]
    }
   ],
   "source": [
    "### Write your PyTorch codes here\n",
    "import torch as t\n",
    "x=t.tensor([0.1,0.3,0.6])\n",
    "W=t.rand(3)\n",
    "for i in range(10): # trials \n",
    "    y=t.dot(W,x) \n",
    "    W+=y*(x-W) # postsynaptically gated InStar \n",
    "    print(W,y)"
   ]
  },
  {
   "cell_type": "code",
   "execution_count": null,
   "metadata": {},
   "outputs": [],
   "source": []
  }
 ],
 "metadata": {
  "kernelspec": {
   "display_name": "Python 3",
   "language": "python",
   "name": "python3"
  },
  "language_info": {
   "codemirror_mode": {
    "name": "ipython",
    "version": 3
   },
   "file_extension": ".py",
   "mimetype": "text/x-python",
   "name": "python",
   "nbconvert_exporter": "python",
   "pygments_lexer": "ipython3",
   "version": "3.7.4"
  }
 },
 "nbformat": 4,
 "nbformat_minor": 2
}

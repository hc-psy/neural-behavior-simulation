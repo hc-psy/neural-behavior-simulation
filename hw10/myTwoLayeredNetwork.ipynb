{
 "cells": [
  {
   "cell_type": "markdown",
   "metadata": {},
   "source": [
    "# Neural & Behavioral Modeling - Week 10 (Exercises)\n",
    "by 駱皓正(austenpsy@gmail.com)"
   ]
  },
  {
   "cell_type": "code",
   "execution_count": 1,
   "metadata": {
    "collapsed": true
   },
   "outputs": [],
   "source": [
    "%config IPCompleter.greedy=True \n",
    "%matplotlib inline\n",
    "from numpy import *\n",
    "from matplotlib.pyplot import *\n",
    "from IPython.display import *"
   ]
  },
  {
   "cell_type": "markdown",
   "metadata": {},
   "source": [
    "## 1 A Two-layered Linear Network as a Regression Model (7 points)\n",
    "Data fitting of the following network is poor. Please check if adding bias terms or chaging network hyperparameters (e.g., learning rate, amount of training, etc.) help. If not, please explain why the fitting is poor given that the network/regression model has sufficient degrees of freedom (i.e., network weights or regression coefficients) to overfit such a small data set."
   ]
  },
  {
   "cell_type": "code",
   "execution_count": 4,
   "metadata": {},
   "outputs": [
    {
     "name": "stdout",
     "output_type": "stream",
     "text": [
      "Ideal results:\n",
      "[[1 0]\n",
      " [1 0]\n",
      " [1 0]\n",
      " [0 1]\n",
      " [0 1]\n",
      " [0 1]]\n",
      "Reality:\n",
      "[[ 0.679 -0.   ]\n",
      " [ 0.643  0.   ]\n",
      " [ 1.321  0.   ]\n",
      " [-0.     0.643]\n",
      " [ 0.     0.643]\n",
      " [ 0.     1.286]]\n"
     ]
    },
    {
     "data": {
      "image/png": "[encoded data removed]",
      "text/plain": [
       "<matplotlib.figure.Figure at 0x10b59fa58>"
      ]
     },
     "metadata": {},
     "output_type": "display_data"
    }
   ],
   "source": [
    "# Here we train a two-layered network of units \n",
    "# with a linear activation function f(x)=x\n",
    "# to associate patterns using the delta rule dW=(t-y)*x\n",
    "\n",
    "set_printoptions(precision=3,suppress=True)\n",
    "\n",
    "X=array([[1,0,0,0],[0,1,0,0],[1,1,0,0],[0,0,1,0],[0,0,0,1],[0,0,1,1]])\n",
    "Y=array([[1,0],[1,0],[1,0],[0,1],[0,1],[0,1]])\n",
    "[Np,Nx]=X.shape; # find numbers of patterns and input dimensions\n",
    "[Np,Ny]=Y.shape; # find numbers of patterns and output dimensions\n",
    "W=random.rand(Ny,Nx); # set initially random connectivity matrix\n",
    "\n",
    "eta=.1; # set the learning rate \n",
    "tol=1e-2; # set the tolerance/stopping criterion; try 0.01\n",
    "nIts=50000; # set the maximum number of allowed iterations\n",
    "totErr=10; # set the maximum training error to an initially high value\n",
    "totErr_hist=[] # history of totall error\n",
    "\n",
    "for c in range(nIts): # for each learning iteration\n",
    "    p=mod(c,Np) # sequential presentation of the training samples\n",
    "    #p=random.randint(nP); # choose a traing pattern at random\n",
    "    \n",
    "    # Forward propagation:\n",
    "    y=W.dot(X[p])\n",
    "    \n",
    "    # Backward propagation:\n",
    "    deltaW=eta*outer(Y[p].T-y,X[p]) # delta learning\n",
    "    W=W+deltaW;  # apply the weight update\n",
    "    \n",
    "    # Checking if done:\n",
    "    if(mod(c,10*Np)==0): # after 10 updates check total errors\n",
    "        predY=W.dot(X.T) # testing ALL the training samples\n",
    "        totErr=sum((Y.T-predY)**2) # sum of squared errors for all samples\n",
    "        totErr_hist.append(totErr)\n",
    "    if(totErr<tol):\n",
    "        break # break if max error is below tolerance\n",
    "        \n",
    "plot(totErr_hist);\n",
    "title(str(c)+':'+str(totErr));\n",
    "print('Ideal results:')\n",
    "print(Y)\n",
    "print('Reality:')\n",
    "print(predY.T) # predicted Y"
   ]
  },
  {
   "cell_type": "code",
   "execution_count": 30,
   "metadata": {},
   "outputs": [
    {
     "name": "stdout",
     "output_type": "stream",
     "text": [
      "Ideal results:\n",
      "[[1 0]\n",
      " [1 0]\n",
      " [1 0]\n",
      " [0 1]\n",
      " [0 1]\n",
      " [0 1]]\n",
      "Reality:\n",
      "[[ 0.835  0.165]\n",
      " [ 0.831  0.169]\n",
      " [ 1.165 -0.165]\n",
      " [ 0.169  0.831]\n",
      " [ 0.17   0.83 ]\n",
      " [-0.162  1.162]]\n"
     ]
    },
    {
     "data": {
      "image/png": "[encoded data removed]",
      "text/plain": [
       "<matplotlib.figure.Figure at 0x10f019390>"
      ]
     },
     "metadata": {},
     "output_type": "display_data"
    }
   ],
   "source": [
    "### Write your codes with bias terms here\n",
    "# Here we train a two-layered network of units \n",
    "# with a linear activation function f(x)=x\n",
    "# to associate patterns using the delta rule dW=(t-y)*x\n",
    "\n",
    "set_printoptions(precision=3,suppress=True)\n",
    "\n",
    "#training data\n",
    "X=array([[1,0,0,0],[0,1,0,0],[1,1,0,0],[0,0,1,0],[0,0,0,1],[0,0,1,1]])\n",
    "Y=array([[1,0],[1,0],[1,0],[0,1],[0,1],[0,1]])\n",
    "[Np,Nx]=X.shape; # find numbers of patterns and input dimensions\n",
    "#Np = 6; Nx = 4\n",
    "[Np,Ny]=Y.shape; # find numbers of patterns and output dimensions\n",
    "#Np = 6; Ny = 2\n",
    "W=random.rand(Ny,Nx+1); # set initially random connectivity matrix\n",
    "#1 represent bias term\n",
    "\n",
    "eta=.01; # set the learning rate \n",
    "tol=1e-2; # set the tolerance/stopping criterion; try 0.01\n",
    "nIts=50000; # set the maximum number of allowed iterations\n",
    "totErr=10; # set the maximum training error to an initially high value\n",
    "totErr_hist=[] # history of totall error\n",
    "\n",
    "for c in range(nIts): # for each learning iteration\n",
    "    p=mod(c,Np) # sequential presentation of the training samples\n",
    "    #p=random.randint(nP); # choose a traing pattern at random\n",
    "    \n",
    "    # Forward propagation:\n",
    "    x0=append(X[p],1) #adding bias term\n",
    "    y=W.dot(x0)\n",
    "    \n",
    "    # Backward propagation:\n",
    "    deltaW=eta*outer(Y[p].T-y,x0) # delta learning\n",
    "    W=W+deltaW;  # apply the weight update\n",
    "    \n",
    "    # Checking if done:\n",
    "    if(mod(c,10*Np)==0): # after 10 updates check total errors\n",
    "        x=hstack([X,ones([Np,1])]) # append bias to all input patterns\n",
    "        predY=W.dot(x.T) # testing ALL the training samples\n",
    "        totErr=sum((Y.T-predY)**2) # sum of squared errors for all samples\n",
    "        totErr_hist.append(totErr)\n",
    "    if(totErr<tol):\n",
    "        break # break if max error is below tolerance\n",
    "        \n",
    "plot(totErr_hist);\n",
    "title(str(c)+':'+str(totErr));\n",
    "print('Ideal results:')\n",
    "print(Y)\n",
    "print('Reality:')\n",
    "print(predY.T) # predicted Y"
   ]
  },
  {
   "cell_type": "markdown",
   "metadata": {},
   "source": [
    "###  Discussions\n",
    "\n",
    "Given the original set of hyperparameters, after the bias term added, the total error decreased in 50% (from 0.670 to 0.345). Letting learning rate to be 1/10 of original, total error decreased (from 0.345 to 0.333). The effects of other hyperparameter has few impacts."
   ]
  },
  {
   "cell_type": "markdown",
   "metadata": {},
   "source": [
    "## 2 PyTorch (3 points)\n",
    "Read <a href=\"http://noahsnail.com/2017/09/18/2017-9-18-PyTorch%E5%9F%BA%E6%9C%AC%E7%94%A8%E6%B3%95(%E4%B8%80)%E2%80%94%E2%80%94Numpy%EF%BC%8CTorch%E5%AF%B9%E6%AF%94/\">this tutorial</a> first and port the following Instar Learning from NumPy to PyTorch:"
   ]
  },
  {
   "cell_type": "code",
   "execution_count": 5,
   "metadata": {},
   "outputs": [
    {
     "name": "stdout",
     "output_type": "stream",
     "text": [
      "[ 0.48145628  0.17285606  0.26581023] 0.232907559369\n",
      "[ 0.39261223  0.20246885  0.32035479] 0.260179273937\n",
      "[ 0.31648059  0.22784443  0.36709475] 0.283548765228\n",
      "[ 0.25509779  0.24830405  0.40477987] 0.302390930796\n",
      "[ 0.20819762  0.26393644  0.43357358] 0.316787481547\n",
      "[ 0.17392197  0.27536092  0.45461663] 0.327308791623\n",
      "[ 0.14972666  0.28342551  0.46947101] 0.334735823618\n",
      "[ 0.13308137  0.28897359  0.47969016] 0.339845290271\n",
      "[ 0.12183882  0.29272086  0.48659236] 0.343296320546\n",
      "[ 0.11434163  0.29521976  0.49119515] 0.345597669037\n"
     ]
    }
   ],
   "source": [
    "# Instar learning:\n",
    "x=array([0.1,0.3,0.5])\n",
    "W=random.rand(3)\n",
    "for i in range(10): # trials \n",
    "    y=dot(W,x) \n",
    "    print(W,y)\n",
    "    W+=y*(x-W) # Postsynaptically gated InStar "
   ]
  },
  {
   "cell_type": "code",
   "execution_count": 6,
   "metadata": {},
   "outputs": [
    {
     "name": "stdout",
     "output_type": "stream",
     "text": [
      "tensor([ 0.1094,  0.2969,  0.4942], dtype=torch.float64) tensor(0.3471, dtype=torch.float64)\n",
      "tensor([ 0.1061,  0.2980,  0.4962], dtype=torch.float64) tensor(0.3481, dtype=torch.float64)\n",
      "tensor([ 0.1040,  0.2987,  0.4975], dtype=torch.float64) tensor(0.3488, dtype=torch.float64)\n",
      "tensor([ 0.1026,  0.2991,  0.4984], dtype=torch.float64) tensor(0.3492, dtype=torch.float64)\n",
      "tensor([ 0.1017,  0.2994,  0.4990], dtype=torch.float64) tensor(0.3495, dtype=torch.float64)\n",
      "tensor([ 0.1011,  0.2996,  0.4993], dtype=torch.float64) tensor(0.3497, dtype=torch.float64)\n",
      "tensor([ 0.1007,  0.2998,  0.4996], dtype=torch.float64) tensor(0.3498, dtype=torch.float64)\n",
      "tensor([ 0.1005,  0.2998,  0.4997], dtype=torch.float64) tensor(0.3499, dtype=torch.float64)\n",
      "tensor([ 0.1003,  0.2999,  0.4998], dtype=torch.float64) tensor(0.3499, dtype=torch.float64)\n",
      "tensor([ 0.1002,  0.2999,  0.4999], dtype=torch.float64) tensor(0.3499, dtype=torch.float64)\n"
     ]
    }
   ],
   "source": [
    "### Write your PyTorch codes here\n",
    "import torch as t\n",
    "\n",
    "xt = t.from_numpy(x)\n",
    "H = t.from_numpy(W)\n",
    "for i in range(10): # trials \n",
    "    y=t.dot(H,xt) \n",
    "    print(H,y)\n",
    "    H+=y*(x-H) # Postsynaptically gated InStar "
   ]
  }
 ],
 "metadata": {
  "kernelspec": {
   "display_name": "Python 3",
   "language": "python",
   "name": "python3"
  },
  "language_info": {
   "codemirror_mode": {
    "name": "ipython",
    "version": 3
   },
   "file_extension": ".py",
   "mimetype": "text/x-python",
   "name": "python",
   "nbconvert_exporter": "python",
   "pygments_lexer": "ipython3",
   "version": "3.7.4"
  }
 },
 "nbformat": 4,
 "nbformat_minor": 2
}
